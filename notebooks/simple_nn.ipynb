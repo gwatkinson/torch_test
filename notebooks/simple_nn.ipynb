{
 "cells": [
  {
   "cell_type": "code",
   "execution_count": null,
   "metadata": {},
   "outputs": [],
   "source": [
    "import numpy as np\n",
    "import torch\n",
    "import torch.nn as nn\n",
    "import torch.nn.functional as F\n",
    "\n",
    "from mnist.load import load_data, plot_digit, plot_random_digits"
   ]
  },
  {
   "cell_type": "code",
   "execution_count": null,
   "metadata": {},
   "outputs": [],
   "source": [
    "mndata = MNIST(\"../data/raw/\")\n",
    "\n",
    "images, labels = mndata.load_training()\n",
    "images = np.array(images)\n",
    "labels = np.array(labels)\n",
    "\n",
    "images_test, labels_test = mndata.load_testing()\n",
    "images_test = np.array(images_test)\n",
    "labels_test = np.array(labels_test)"
   ]
  },
  {
   "cell_type": "code",
   "execution_count": null,
   "metadata": {},
   "outputs": [],
   "source": [
    "import random\n",
    "\n",
    "import matplotlib.pyplot as plt\n",
    "\n",
    "\n",
    "def plot_digit(image, label):\n",
    "    \"\"\"Plot a single MNIST image.\"\"\"\n",
    "    image = image.reshape(28, 28)\n",
    "    plt.imshow(image, cmap=\"Greys\", interpolation=\"nearest\")\n",
    "    plt.axis(\"off\")\n",
    "    plt.title(label)\n",
    "\n",
    "\n",
    "def plot_random_digits(n=10, x=5, y=2, figsize=4):\n",
    "    \"\"\"Plot a random MNIST digit.\"\"\"\n",
    "    index = random.sample(range(len(images)), n)\n",
    "    fig, axs = plt.subplots(y, x, figsize=(figsize * x, figsize * y))\n",
    "    for i, ax in enumerate(axs.flat):\n",
    "        ax.imshow(\n",
    "            images[index[i]].reshape(28, 28), cmap=\"Greys\", interpolation=\"nearest\"\n",
    "        )\n",
    "        ax.axis(\"off\")\n",
    "        ax.set_title(labels[index[i]])\n",
    "    plt.show()"
   ]
  },
  {
   "cell_type": "code",
   "execution_count": null,
   "metadata": {},
   "outputs": [],
   "source": []
  }
 ],
 "metadata": {
  "interpreter": {
   "hash": "eec538e602f9557dc9662e6bc681b9823109cc6a965a6e8a365c0a2dd6a2372e"
  },
  "kernelspec": {
   "display_name": "Python 3.9.9 ('.venv': poetry)",
   "language": "python",
   "name": "python3"
  },
  "language_info": {
   "codemirror_mode": {
    "name": "ipython",
    "version": 3
   },
   "file_extension": ".py",
   "mimetype": "text/x-python",
   "name": "python",
   "nbconvert_exporter": "python",
   "pygments_lexer": "ipython3",
   "version": "3.9.9"
  }
 },
 "nbformat": 4,
 "nbformat_minor": 2
}
