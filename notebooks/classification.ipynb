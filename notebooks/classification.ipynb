{
 "cells": [
  {
   "cell_type": "markdown",
   "metadata": {},
   "source": [
    "# Classification on the MNIST dataset\n",
    "\n",
    "In this notebook, I will try to classify the digits in the MNIST dataset using basing Neural Networks implemented in Pytorch.\n",
    "\n",
    "In a second step, I will try to interprete the models with different methods (SHAP, LIME, etc.).\n",
    "\n",
    "## Classification"
   ]
  },
  {
   "cell_type": "code",
   "execution_count": null,
   "metadata": {},
   "outputs": [],
   "source": [
    "import numpy as np\n",
    "\n",
    "from mnist import MNIST\n",
    "\n",
    "mndata = MNIST(\"../data/raw/\")\n",
    "\n",
    "images, labels = mndata.load_training()\n",
    "images = np.array(images)\n",
    "labels = np.array(labels)\n",
    "\n",
    "images_test, labels_test = mndata.load_testing()\n",
    "images_test = np.array(images_test)\n",
    "labels_test = np.array(labels_test)"
   ]
  },
  {
   "cell_type": "code",
   "execution_count": null,
   "metadata": {},
   "outputs": [],
   "source": [
    "import random\n",
    "\n",
    "import matplotlib.pyplot as plt\n",
    "\n",
    "\n",
    "def plot_digit(image, label):\n",
    "    \"\"\"Plot a single MNIST image.\"\"\"\n",
    "    image = image.reshape(28, 28)\n",
    "    plt.imshow(image, cmap=\"Greys\", interpolation=\"nearest\")\n",
    "    plt.axis(\"off\")\n",
    "    plt.title(label)\n",
    "\n",
    "\n",
    "def plot_random_digits(n=10, x=5, y=2, figsize=4):\n",
    "    \"\"\"Plot a random MNIST digit.\"\"\"\n",
    "    index = random.sample(range(len(images)), n)\n",
    "    fig, axs = plt.subplots(y, x, figsize=(figsize * x, figsize * y))\n",
    "    for i, ax in enumerate(axs.flat):\n",
    "        ax.imshow(\n",
    "            images[index[i]].reshape(28, 28), cmap=\"Greys\", interpolation=\"nearest\"\n",
    "        )\n",
    "        ax.axis(\"off\")\n",
    "        ax.set_title(labels[index[i]])\n",
    "    plt.show()"
   ]
  },
  {
   "cell_type": "code",
   "execution_count": null,
   "metadata": {},
   "outputs": [],
   "source": [
    "plot_random_digits()"
   ]
  },
  {
   "cell_type": "code",
   "execution_count": null,
   "metadata": {},
   "outputs": [],
   "source": [
    "indexes = np.array(range(len(images)))\n",
    "np.random.shuffle(indexes)\n",
    "test_size = int(len(images) * 0.2)\n",
    "test_indexes = indexes[:test_size]\n",
    "train_indexes = indexes[test_size:]"
   ]
  },
  {
   "cell_type": "code",
   "execution_count": null,
   "metadata": {},
   "outputs": [],
   "source": [
    "from sklearn.metrics import confusion_matrix\n",
    "from sklearn.model_selection import GridSearchCV\n",
    "from sklearn.neighbors import KNeighborsClassifier"
   ]
  },
  {
   "cell_type": "code",
   "execution_count": null,
   "metadata": {},
   "outputs": [],
   "source": [
    "X, y = images, labels\n",
    "X_test, y_test = images_test, labels_test"
   ]
  },
  {
   "cell_type": "code",
   "execution_count": null,
   "metadata": {},
   "outputs": [],
   "source": [
    "estimator = KNeighborsClassifier(n_neighbors=5)\n",
    "estimator.fit(X, y)"
   ]
  },
  {
   "cell_type": "code",
   "execution_count": null,
   "metadata": {},
   "outputs": [],
   "source": [
    "estimator.score(X_test, y_test)"
   ]
  },
  {
   "cell_type": "code",
   "execution_count": null,
   "metadata": {},
   "outputs": [],
   "source": [
    "from mlxtend.evaluate import confusion_matrix\n",
    "from mlxtend.plotting import plot_confusion_matrix\n",
    "\n",
    "cm = confusion_matrix(y_target=y_test, y_predicted=estimator.predict(X_test))\n",
    "fig, ax = plot_confusion_matrix(conf_mat=cm)\n",
    "fig.show()"
   ]
  },
  {
   "cell_type": "code",
   "execution_count": null,
   "metadata": {},
   "outputs": [],
   "source": [
    "estimator = KNeighborsClassifier()\n",
    "param_grid = {\"n_neighbors\": [3, 5, 7, 11, 15]}\n",
    "\n",
    "selector = GridSearchCV(\n",
    "    estimator,\n",
    "    param_grid=param_grid,\n",
    "    scoring=\"neg_log_loss\",\n",
    "    cv=5,\n",
    "    return_train_score=True,\n",
    "    verbose=3,\n",
    "    n_jobs=-1,\n",
    ")\n",
    "\n",
    "selector = selector.fit(X, y)"
   ]
  },
  {
   "cell_type": "code",
   "execution_count": null,
   "metadata": {},
   "outputs": [],
   "source": [
    "import pandas as pd\n",
    "\n",
    "results = pd.DataFrame(selector.cv_results_)"
   ]
  },
  {
   "cell_type": "code",
   "execution_count": null,
   "metadata": {},
   "outputs": [],
   "source": [
    "fig, ax = plt.subplots(figsize=(10, 6))\n",
    "ax.set_title(\"GridSearchCV results\")"
   ]
  }
 ],
 "metadata": {
  "interpreter": {
   "hash": "eec538e602f9557dc9662e6bc681b9823109cc6a965a6e8a365c0a2dd6a2372e"
  },
  "kernelspec": {
   "display_name": "Python 3.9.9 ('.venv': poetry)",
   "language": "python",
   "name": "python3"
  },
  "language_info": {
   "codemirror_mode": {
    "name": "ipython",
    "version": 3
   },
   "file_extension": ".py",
   "mimetype": "text/x-python",
   "name": "python",
   "nbconvert_exporter": "python",
   "pygments_lexer": "ipython3",
   "version": "3.9.9"
  }
 },
 "nbformat": 4,
 "nbformat_minor": 2
}
